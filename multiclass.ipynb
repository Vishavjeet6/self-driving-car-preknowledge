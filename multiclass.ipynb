{
 "cells": [
  {
   "cell_type": "code",
   "execution_count": 30,
   "metadata": {},
   "outputs": [],
   "source": [
    "import keras \n",
    "import numpy as np\n",
    "import matplotlib.pyplot as plt\n",
    "from sklearn import datasets\n",
    "from keras.models import Sequential\n",
    "from keras.layers import Dense\n",
    "from keras.optimizers import Adam"
   ]
  },
  {
   "cell_type": "code",
   "execution_count": 31,
   "metadata": {},
   "outputs": [],
   "source": [
    "n_pts = 500\n",
    "centers = [[-1,1], [-1,-1], [1,-1], [1,1], [0,0]]\n",
    "X, y = datasets.make_blobs(n_samples=n_pts, random_state=123, centers=centers, cluster_std=0.4)"
   ]
  },
  {
   "cell_type": "code",
   "execution_count": 32,
   "metadata": {},
   "outputs": [
    {
     "data": {
      "text/plain": [
       "<matplotlib.collections.PathCollection at 0x285c76cb588>"
      ]
     },
     "execution_count": 32,
     "metadata": {},
     "output_type": "execute_result"
    },
    {
     "data": {
      "image/png": "[encoded data removed]",
      "text/plain": [
       "<Figure size 432x288 with 1 Axes>"
      ]
     },
     "metadata": {
      "needs_background": "light"
     },
     "output_type": "display_data"
    }
   ],
   "source": [
    "plt.scatter(X[y==0, 0], X[y==0, 1])\n",
    "plt.scatter(X[y==1, 0], X[y==1, 1])\n",
    "plt.scatter(X[y==2, 0], X[y==2, 1])\n",
    "plt.scatter(X[y==3, 0], X[y==3, 1])\n",
    "plt.scatter(X[y==4, 0], X[y==4, 1])"
   ]
  },
  {
   "cell_type": "code",
   "execution_count": 33,
   "metadata": {},
   "outputs": [],
   "source": [
    "from keras.utils.np_utils import to_categorical"
   ]
  },
  {
   "cell_type": "code",
   "execution_count": 34,
   "metadata": {},
   "outputs": [
    {
     "name": "stdout",
     "output_type": "stream",
     "text": [
      "[[0. 0. 0. 1. 0.]\n",
      " [0. 0. 0. 1. 0.]\n",
      " [0. 0. 0. 0. 1.]\n",
      " ...\n",
      " [0. 1. 0. 0. 0.]\n",
      " [0. 0. 1. 0. 0.]\n",
      " [0. 1. 0. 0. 0.]]\n"
     ]
    }
   ],
   "source": [
    "y_cat = to_categorical(y, 5)\n",
    "print(y_cat)"
   ]
  },
  {
   "cell_type": "code",
   "execution_count": 35,
   "metadata": {},
   "outputs": [
    {
     "data": {
      "text/plain": [
       "(500, 5)"
      ]
     },
     "execution_count": 35,
     "metadata": {},
     "output_type": "execute_result"
    }
   ],
   "source": [
    "y_cat.shape"
   ]
  },
  {
   "cell_type": "code",
   "execution_count": 36,
   "metadata": {},
   "outputs": [],
   "source": [
    "model = Sequential()\n",
    "model.add(Dense(units=5, input_shape=(2,), activation='softmax'))\n",
    "model.compile(Adam(0.1), loss='categorical_crossentropy', metrics=['accuracy'])"
   ]
  },
  {
   "cell_type": "code",
   "execution_count": 37,
   "metadata": {},
   "outputs": [
    {
     "name": "stdout",
     "output_type": "stream",
     "text": [
      "Epoch 1/100\n",
      "500/500 [==============================] - 0s 370us/step - loss: 1.2554 - acc: 0.5040\n",
      "Epoch 2/100\n",
      "500/500 [==============================] - 0s 23us/step - loss: 0.6350 - acc: 0.8360\n",
      "Epoch 3/100\n",
      "500/500 [==============================] - 0s 42us/step - loss: 0.4134 - acc: 0.9100\n",
      "Epoch 4/100\n",
      "500/500 [==============================] - 0s 50us/step - loss: 0.3313 - acc: 0.9460\n",
      "Epoch 5/100\n",
      "500/500 [==============================] - 0s 38us/step - loss: 0.2886 - acc: 0.9440\n",
      "Epoch 6/100\n",
      "500/500 [==============================] - 0s 37us/step - loss: 0.2636 - acc: 0.9480\n",
      "Epoch 7/100\n",
      "500/500 [==============================] - 0s 40us/step - loss: 0.2455 - acc: 0.9480\n",
      "Epoch 8/100\n",
      "500/500 [==============================] - 0s 39us/step - loss: 0.2337 - acc: 0.9480\n",
      "Epoch 9/100\n",
      "500/500 [==============================] - 0s 41us/step - loss: 0.2238 - acc: 0.9440\n",
      "Epoch 10/100\n",
      "500/500 [==============================] - 0s 46us/step - loss: 0.2159 - acc: 0.9460\n",
      "Epoch 11/100\n",
      "500/500 [==============================] - 0s 46us/step - loss: 0.2086 - acc: 0.9480\n",
      "Epoch 12/100\n",
      "500/500 [==============================] - 0s 46us/step - loss: 0.2022 - acc: 0.9480\n",
      "Epoch 13/100\n",
      "500/500 [==============================] - 0s 88us/step - loss: 0.1975 - acc: 0.9480\n",
      "Epoch 14/100\n",
      "500/500 [==============================] - 0s 57us/step - loss: 0.1923 - acc: 0.9440\n",
      "Epoch 15/100\n",
      "500/500 [==============================] - 0s 44us/step - loss: 0.1899 - acc: 0.9480\n",
      "Epoch 16/100\n",
      "500/500 [==============================] - 0s 61us/step - loss: 0.1862 - acc: 0.9500\n",
      "Epoch 17/100\n",
      "500/500 [==============================] - 0s 48us/step - loss: 0.1849 - acc: 0.9400\n",
      "Epoch 18/100\n",
      "500/500 [==============================] - 0s 48us/step - loss: 0.1831 - acc: 0.9440\n",
      "Epoch 19/100\n",
      "500/500 [==============================] - 0s 40us/step - loss: 0.1790 - acc: 0.9500\n",
      "Epoch 20/100\n",
      "500/500 [==============================] - 0s 56us/step - loss: 0.1760 - acc: 0.9440\n",
      "Epoch 21/100\n",
      "500/500 [==============================] - 0s 40us/step - loss: 0.1749 - acc: 0.9480\n",
      "Epoch 22/100\n",
      "500/500 [==============================] - 0s 64us/step - loss: 0.1730 - acc: 0.9480\n",
      "Epoch 23/100\n",
      "500/500 [==============================] - 0s 40us/step - loss: 0.1721 - acc: 0.9480\n",
      "Epoch 24/100\n",
      "500/500 [==============================] - 0s 54us/step - loss: 0.1698 - acc: 0.9480\n",
      "Epoch 25/100\n",
      "500/500 [==============================] - 0s 23us/step - loss: 0.1686 - acc: 0.9480\n",
      "Epoch 26/100\n",
      "500/500 [==============================] - 0s 40us/step - loss: 0.1673 - acc: 0.9500\n",
      "Epoch 27/100\n",
      "500/500 [==============================] - 0s 48us/step - loss: 0.1664 - acc: 0.9500\n",
      "Epoch 28/100\n",
      "500/500 [==============================] - 0s 43us/step - loss: 0.1667 - acc: 0.9520\n",
      "Epoch 29/100\n",
      "500/500 [==============================] - 0s 81us/step - loss: 0.1643 - acc: 0.9460\n",
      "Epoch 30/100\n",
      "500/500 [==============================] - 0s 58us/step - loss: 0.1650 - acc: 0.9480\n",
      "Epoch 31/100\n",
      "500/500 [==============================] - ETA: 0s - loss: 0.0914 - acc: 0.980 - 0s 48us/step - loss: 0.1629 - acc: 0.9500\n",
      "Epoch 32/100\n",
      "500/500 [==============================] - 0s 40us/step - loss: 0.1623 - acc: 0.9500\n",
      "Epoch 33/100\n",
      "500/500 [==============================] - 0s 48us/step - loss: 0.1608 - acc: 0.9520\n",
      "Epoch 34/100\n",
      "500/500 [==============================] - 0s 49us/step - loss: 0.1622 - acc: 0.9480\n",
      "Epoch 35/100\n",
      "500/500 [==============================] - 0s 48us/step - loss: 0.1611 - acc: 0.9520\n",
      "Epoch 36/100\n",
      "500/500 [==============================] - 0s 32us/step - loss: 0.1593 - acc: 0.9460\n",
      "Epoch 37/100\n",
      "500/500 [==============================] - 0s 32us/step - loss: 0.1595 - acc: 0.9500\n",
      "Epoch 38/100\n",
      "500/500 [==============================] - 0s 40us/step - loss: 0.1583 - acc: 0.9500\n",
      "Epoch 39/100\n",
      "500/500 [==============================] - 0s 32us/step - loss: 0.1588 - acc: 0.9520\n",
      "Epoch 40/100\n",
      "500/500 [==============================] - 0s 32us/step - loss: 0.1584 - acc: 0.9500\n",
      "Epoch 41/100\n",
      "500/500 [==============================] - 0s 48us/step - loss: 0.1570 - acc: 0.9500\n",
      "Epoch 42/100\n",
      "500/500 [==============================] - 0s 24us/step - loss: 0.1587 - acc: 0.9500\n",
      "Epoch 43/100\n",
      "500/500 [==============================] - 0s 24us/step - loss: 0.1604 - acc: 0.9460\n",
      "Epoch 44/100\n",
      "500/500 [==============================] - 0s 24us/step - loss: 0.1569 - acc: 0.9480\n",
      "Epoch 45/100\n",
      "500/500 [==============================] - 0s 32us/step - loss: 0.1566 - acc: 0.9500\n",
      "Epoch 46/100\n",
      "500/500 [==============================] - 0s 32us/step - loss: 0.1561 - acc: 0.9500\n",
      "Epoch 47/100\n",
      "500/500 [==============================] - 0s 32us/step - loss: 0.1555 - acc: 0.9520\n",
      "Epoch 48/100\n",
      "500/500 [==============================] - 0s 32us/step - loss: 0.1558 - acc: 0.9500\n",
      "Epoch 49/100\n",
      "500/500 [==============================] - 0s 32us/step - loss: 0.1554 - acc: 0.9500\n",
      "Epoch 50/100\n",
      "500/500 [==============================] - 0s 32us/step - loss: 0.1547 - acc: 0.9500\n",
      "Epoch 51/100\n",
      "500/500 [==============================] - 0s 32us/step - loss: 0.1553 - acc: 0.9500\n",
      "Epoch 52/100\n",
      "500/500 [==============================] - 0s 32us/step - loss: 0.1543 - acc: 0.9460\n",
      "Epoch 53/100\n",
      "500/500 [==============================] - 0s 32us/step - loss: 0.1544 - acc: 0.9500\n",
      "Epoch 54/100\n",
      "500/500 [==============================] - 0s 24us/step - loss: 0.1539 - acc: 0.9500\n",
      "Epoch 55/100\n",
      "500/500 [==============================] - 0s 24us/step - loss: 0.1564 - acc: 0.9480\n",
      "Epoch 56/100\n",
      "500/500 [==============================] - 0s 32us/step - loss: 0.1533 - acc: 0.9480\n",
      "Epoch 57/100\n",
      "500/500 [==============================] - 0s 24us/step - loss: 0.1529 - acc: 0.9520\n",
      "Epoch 58/100\n",
      "500/500 [==============================] - 0s 24us/step - loss: 0.1541 - acc: 0.9520\n",
      "Epoch 59/100\n",
      "500/500 [==============================] - 0s 32us/step - loss: 0.1533 - acc: 0.9540\n",
      "Epoch 60/100\n",
      "500/500 [==============================] - 0s 32us/step - loss: 0.1558 - acc: 0.9440\n",
      "Epoch 61/100\n",
      "500/500 [==============================] - 0s 32us/step - loss: 0.1535 - acc: 0.9500\n",
      "Epoch 62/100\n",
      "500/500 [==============================] - 0s 32us/step - loss: 0.1536 - acc: 0.9440\n",
      "Epoch 63/100\n",
      "500/500 [==============================] - 0s 24us/step - loss: 0.1544 - acc: 0.9460\n",
      "Epoch 64/100\n",
      "500/500 [==============================] - 0s 32us/step - loss: 0.1537 - acc: 0.9500\n",
      "Epoch 65/100\n",
      "500/500 [==============================] - 0s 32us/step - loss: 0.1548 - acc: 0.9520\n",
      "Epoch 66/100\n",
      "500/500 [==============================] - 0s 24us/step - loss: 0.1538 - acc: 0.9500\n",
      "Epoch 67/100\n",
      "500/500 [==============================] - 0s 24us/step - loss: 0.1536 - acc: 0.9460\n",
      "Epoch 68/100\n",
      "500/500 [==============================] - 0s 32us/step - loss: 0.1537 - acc: 0.9460\n",
      "Epoch 69/100\n",
      "500/500 [==============================] - 0s 32us/step - loss: 0.1521 - acc: 0.9520\n",
      "Epoch 70/100\n",
      "500/500 [==============================] - 0s 32us/step - loss: 0.1524 - acc: 0.9520\n",
      "Epoch 71/100\n",
      "500/500 [==============================] - 0s 32us/step - loss: 0.1536 - acc: 0.9500\n",
      "Epoch 72/100\n",
      "500/500 [==============================] - 0s 32us/step - loss: 0.1521 - acc: 0.9460\n",
      "Epoch 73/100\n",
      "500/500 [==============================] - 0s 40us/step - loss: 0.1542 - acc: 0.9460\n",
      "Epoch 74/100\n",
      "500/500 [==============================] - 0s 40us/step - loss: 0.1517 - acc: 0.9520\n",
      "Epoch 75/100\n",
      "500/500 [==============================] - 0s 29us/step - loss: 0.1522 - acc: 0.9480\n",
      "Epoch 76/100\n",
      "500/500 [==============================] - 0s 56us/step - loss: 0.1524 - acc: 0.9480\n",
      "Epoch 77/100\n",
      "500/500 [==============================] - 0s 56us/step - loss: 0.1538 - acc: 0.9500\n",
      "Epoch 78/100\n",
      "500/500 [==============================] - 0s 32us/step - loss: 0.1538 - acc: 0.9540\n",
      "Epoch 79/100\n",
      "500/500 [==============================] - 0s 32us/step - loss: 0.1543 - acc: 0.9460\n",
      "Epoch 80/100\n",
      "500/500 [==============================] - 0s 40us/step - loss: 0.1535 - acc: 0.9500\n",
      "Epoch 81/100\n",
      "500/500 [==============================] - 0s 24us/step - loss: 0.1523 - acc: 0.9520\n",
      "Epoch 82/100\n",
      "500/500 [==============================] - 0s 35us/step - loss: 0.1527 - acc: 0.9520\n",
      "Epoch 83/100\n",
      "500/500 [==============================] - 0s 32us/step - loss: 0.1522 - acc: 0.9480\n",
      "Epoch 84/100\n"
     ]
    },
    {
     "name": "stdout",
     "output_type": "stream",
     "text": [
      "500/500 [==============================] - 0s 56us/step - loss: 0.1514 - acc: 0.9500\n",
      "Epoch 85/100\n",
      "500/500 [==============================] - 0s 40us/step - loss: 0.1515 - acc: 0.9500\n",
      "Epoch 86/100\n",
      "500/500 [==============================] - 0s 48us/step - loss: 0.1513 - acc: 0.9460\n",
      "Epoch 87/100\n",
      "500/500 [==============================] - 0s 31us/step - loss: 0.1534 - acc: 0.9500\n",
      "Epoch 88/100\n",
      "500/500 [==============================] - 0s 24us/step - loss: 0.1522 - acc: 0.9520\n",
      "Epoch 89/100\n",
      "500/500 [==============================] - 0s 40us/step - loss: 0.1522 - acc: 0.9500\n",
      "Epoch 90/100\n",
      "500/500 [==============================] - 0s 32us/step - loss: 0.1509 - acc: 0.9500\n",
      "Epoch 91/100\n",
      "500/500 [==============================] - 0s 43us/step - loss: 0.1515 - acc: 0.9480\n",
      "Epoch 92/100\n",
      "500/500 [==============================] - 0s 40us/step - loss: 0.1518 - acc: 0.9500\n",
      "Epoch 93/100\n",
      "500/500 [==============================] - 0s 32us/step - loss: 0.1520 - acc: 0.9500\n",
      "Epoch 94/100\n",
      "500/500 [==============================] - 0s 40us/step - loss: 0.1520 - acc: 0.9480\n",
      "Epoch 95/100\n",
      "500/500 [==============================] - 0s 36us/step - loss: 0.1531 - acc: 0.9520\n",
      "Epoch 96/100\n",
      "500/500 [==============================] - 0s 40us/step - loss: 0.1536 - acc: 0.9480\n",
      "Epoch 97/100\n",
      "500/500 [==============================] - 0s 40us/step - loss: 0.1506 - acc: 0.9520\n",
      "Epoch 98/100\n",
      "500/500 [==============================] - 0s 24us/step - loss: 0.1516 - acc: 0.9540\n",
      "Epoch 99/100\n",
      "500/500 [==============================] - 0s 37us/step - loss: 0.1506 - acc: 0.9540\n",
      "Epoch 100/100\n",
      "500/500 [==============================] - 0s 40us/step - loss: 0.1518 - acc: 0.9480\n"
     ]
    },
    {
     "data": {
      "text/plain": [
       "<keras.callbacks.History at 0x285c77c3c18>"
      ]
     },
     "execution_count": 37,
     "metadata": {},
     "output_type": "execute_result"
    }
   ],
   "source": [
    "model.fit(x=X, y=y_cat, verbose=1, batch_size=50, epochs=100)"
   ]
  },
  {
   "cell_type": "code",
   "execution_count": 38,
   "metadata": {},
   "outputs": [],
   "source": [
    "def plot_multiclass_decision_boundary(X, y_cat, model):\n",
    "    x_span = np.linspace(min(X[:,0]) - 1, max(X[:,0]) + 1)\n",
    "    y_span = np.linspace(min(X[:,1]) - 1, max(X[:,1]) + 1)\n",
    "    xx, yy = np.meshgrid(x_span, y_span)\n",
    "    grid = np.c_[xx.ravel(), yy.ravel()]\n",
    "    pred_func = model.predict_classes(grid)\n",
    "    z = pred_func.reshape(xx.shape)\n",
    "    plt.contourf(xx, yy, z)"
   ]
  },
  {
   "cell_type": "code",
   "execution_count": 39,
   "metadata": {
    "scrolled": true
   },
   "outputs": [
    {
     "data": {
      "text/plain": [
       "<matplotlib.collections.PathCollection at 0x285c745c6a0>"
      ]
     },
     "execution_count": 39,
     "metadata": {},
     "output_type": "execute_result"
    },
    {
     "data": {
      "image/png": "[encoded data removed]",
      "text/plain": [
       "<Figure size 432x288 with 1 Axes>"
      ]
     },
     "metadata": {
      "needs_background": "light"
     },
     "output_type": "display_data"
    }
   ],
   "source": [
    "plot_multiclass_decision_boundary(X, y_cat, model)\n",
    "plt.scatter(X[y==0, 0], X[y==0, 1])\n",
    "plt.scatter(X[y==1, 0], X[y==1, 1])\n",
    "plt.scatter(X[y==2, 0], X[y==2, 1])\n",
    "plt.scatter(X[y==3, 0], X[y==3, 1])\n",
    "plt.scatter(X[y==4, 0], X[y==4, 1])"
   ]
  },
  {
   "cell_type": "markdown",
   "metadata": {},
   "source": [
    "# Test "
   ]
  },
  {
   "cell_type": "code",
   "execution_count": 40,
   "metadata": {},
   "outputs": [
    {
     "name": "stdout",
     "output_type": "stream",
     "text": [
      "Prediction is : [3]\n"
     ]
    },
    {
     "data": {
      "image/png": "[encoded data removed]",
      "text/plain": [
       "<Figure size 432x288 with 1 Axes>"
      ]
     },
     "metadata": {
      "needs_background": "light"
     },
     "output_type": "display_data"
    }
   ],
   "source": [
    "plot_multiclass_decision_boundary(X, y_cat, model)\n",
    "plt.scatter(X[y==0, 0], X[y==0, 1])\n",
    "plt.scatter(X[y==1, 0], X[y==1, 1])\n",
    "plt.scatter(X[y==2, 0], X[y==2, 1])\n",
    "plt.scatter(X[y==3, 0], X[y==3, 1])\n",
    "plt.scatter(X[y==4, 0], X[y==4, 1])\n",
    "x = 0.5\n",
    "y = 0.5\n",
    "point = np.array([[x, y]])\n",
    "prediction = model.predict_classes(point)\n",
    "plt.plot([x],[y], marker ='o', markersize=10, color='r')\n",
    "print(\"Prediction is :\", prediction)"
   ]
  }
 ],
 "metadata": {
  "kernelspec": {
   "display_name": "Python 3",
   "language": "python",
   "name": "python3"
  },
  "language_info": {
   "codemirror_mode": {
    "name": "ipython",
    "version": 3
   },
   "file_extension": ".py",
   "mimetype": "text/x-python",
   "name": "python",
   "nbconvert_exporter": "python",
   "pygments_lexer": "ipython3",
   "version": "3.6.8"
  }
 },
 "nbformat": 4,
 "nbformat_minor": 2
}
