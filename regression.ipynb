{
 "cells": [
  {
   "cell_type": "code",
   "execution_count": 4,
   "metadata": {},
   "outputs": [
    {
     "name": "stderr",
     "output_type": "stream",
     "text": [
      "Using TensorFlow backend.\n"
     ]
    }
   ],
   "source": [
    "from keras.models import Sequential\n",
    "from keras.layers import Dense"
   ]
  },
  {
   "cell_type": "code",
   "execution_count": 5,
   "metadata": {},
   "outputs": [],
   "source": [
    "from keras.optimizers import Adam"
   ]
  },
  {
   "cell_type": "code",
   "execution_count": 1,
   "metadata": {},
   "outputs": [],
   "source": [
    "import numpy as np\n",
    "import matplotlib.pyplot as plt"
   ]
  },
  {
   "cell_type": "code",
   "execution_count": 3,
   "metadata": {
    "scrolled": true
   },
   "outputs": [
    {
     "data": {
      "text/plain": [
       "<matplotlib.collections.PathCollection at 0x1fd13c82b70>"
      ]
     },
     "execution_count": 3,
     "metadata": {},
     "output_type": "execute_result"
    },
    {
     "data": {
      "image/png": "[encoded data removed]",
      "text/plain": [
       "<Figure size 432x288 with 1 Axes>"
      ]
     },
     "metadata": {
      "needs_background": "light"
     },
     "output_type": "display_data"
    }
   ],
   "source": [
    "np.random.seed(0)\n",
    "points = 500\n",
    "X = np.linspace(-3, 3, points)\n",
    "y = np.sin(X) + np.random.uniform(-0.5, 0.5, points)\n",
    "\n",
    "plt.scatter(X, y)"
   ]
  },
  {
   "cell_type": "code",
   "execution_count": 8,
   "metadata": {},
   "outputs": [],
   "source": [
    "model = Sequential()\n",
    "model.add(Dense(50, activation='sigmoid', input_dim=1))\n",
    "model.add(Dense(30, activation='sigmoid'))\n",
    "model.add(Dense(1))"
   ]
  },
  {
   "cell_type": "code",
   "execution_count": 10,
   "metadata": {},
   "outputs": [
    {
     "name": "stderr",
     "output_type": "stream",
     "text": [
      "W0920 22:30:13.006997 13536 deprecation_wrapper.py:119] From C:\\Users\\visha\\Anaconda3\\envs\\ml\\lib\\site-packages\\keras\\optimizers.py:790: The name tf.train.Optimizer is deprecated. Please use tf.compat.v1.train.Optimizer instead.\n",
      "\n",
      "W0920 22:30:13.707990 13536 deprecation_wrapper.py:119] From C:\\Users\\visha\\Anaconda3\\envs\\ml\\lib\\site-packages\\keras\\backend\\tensorflow_backend.py:986: The name tf.assign_add is deprecated. Please use tf.compat.v1.assign_add instead.\n",
      "\n",
      "W0920 22:30:13.911951 13536 deprecation_wrapper.py:119] From C:\\Users\\visha\\Anaconda3\\envs\\ml\\lib\\site-packages\\keras\\backend\\tensorflow_backend.py:973: The name tf.assign is deprecated. Please use tf.compat.v1.assign instead.\n",
      "\n"
     ]
    },
    {
     "name": "stdout",
     "output_type": "stream",
     "text": [
      "Epoch 1/50\n",
      "500/500 [==============================] - 2s 4ms/step - loss: 0.5334\n",
      "Epoch 2/50\n",
      "500/500 [==============================] - 0s 87us/step - loss: 0.2480\n",
      "Epoch 3/50\n",
      "500/500 [==============================] - 0s 75us/step - loss: 0.2340\n",
      "Epoch 4/50\n",
      "500/500 [==============================] - 0s 91us/step - loss: 0.2396\n",
      "Epoch 5/50\n",
      "500/500 [==============================] - 0s 88us/step - loss: 0.2232\n",
      "Epoch 6/50\n",
      "500/500 [==============================] - 0s 83us/step - loss: 0.2322\n",
      "Epoch 7/50\n",
      "500/500 [==============================] - 0s 78us/step - loss: 0.2097\n",
      "Epoch 8/50\n",
      "500/500 [==============================] - 0s 68us/step - loss: 0.1997\n",
      "Epoch 9/50\n",
      "500/500 [==============================] - 0s 65us/step - loss: 0.1967\n",
      "Epoch 10/50\n",
      "500/500 [==============================] - 0s 99us/step - loss: 0.1883\n",
      "Epoch 11/50\n",
      "500/500 [==============================] - 0s 84us/step - loss: 0.1732\n",
      "Epoch 12/50\n",
      "500/500 [==============================] - 0s 72us/step - loss: 0.1642\n",
      "Epoch 13/50\n",
      "500/500 [==============================] - 0s 88us/step - loss: 0.1531\n",
      "Epoch 14/50\n",
      "500/500 [==============================] - 0s 62us/step - loss: 0.1470\n",
      "Epoch 15/50\n",
      "500/500 [==============================] - 0s 50us/step - loss: 0.1470\n",
      "Epoch 16/50\n",
      "500/500 [==============================] - 0s 56us/step - loss: 0.1335\n",
      "Epoch 17/50\n",
      "500/500 [==============================] - 0s 80us/step - loss: 0.1227\n",
      "Epoch 18/50\n",
      "500/500 [==============================] - 0s 81us/step - loss: 0.1195\n",
      "Epoch 19/50\n",
      "500/500 [==============================] - 0s 84us/step - loss: 0.1175\n",
      "Epoch 20/50\n",
      "500/500 [==============================] - 0s 100us/step - loss: 0.1144\n",
      "Epoch 21/50\n",
      "500/500 [==============================] - 0s 73us/step - loss: 0.1128\n",
      "Epoch 22/50\n",
      "500/500 [==============================] - 0s 90us/step - loss: 0.1099\n",
      "Epoch 23/50\n",
      "500/500 [==============================] - 0s 52us/step - loss: 0.1109\n",
      "Epoch 24/50\n",
      "500/500 [==============================] - 0s 84us/step - loss: 0.1117\n",
      "Epoch 25/50\n",
      "500/500 [==============================] - 0s 78us/step - loss: 0.1097\n",
      "Epoch 26/50\n",
      "500/500 [==============================] - 0s 58us/step - loss: 0.1125\n",
      "Epoch 27/50\n",
      "500/500 [==============================] - 0s 51us/step - loss: 0.1112\n",
      "Epoch 28/50\n",
      "500/500 [==============================] - 0s 58us/step - loss: 0.1086\n",
      "Epoch 29/50\n",
      "500/500 [==============================] - 0s 82us/step - loss: 0.1123\n",
      "Epoch 30/50\n",
      "500/500 [==============================] - 0s 66us/step - loss: 0.1130\n",
      "Epoch 31/50\n",
      "500/500 [==============================] - 0s 64us/step - loss: 0.1244\n",
      "Epoch 32/50\n",
      "500/500 [==============================] - 0s 68us/step - loss: 0.1046\n",
      "Epoch 33/50\n",
      "500/500 [==============================] - 0s 70us/step - loss: 0.1044\n",
      "Epoch 34/50\n",
      "500/500 [==============================] - 0s 54us/step - loss: 0.1059\n",
      "Epoch 35/50\n",
      "500/500 [==============================] - 0s 70us/step - loss: 0.1037\n",
      "Epoch 36/50\n",
      "500/500 [==============================] - 0s 74us/step - loss: 0.1031\n",
      "Epoch 37/50\n",
      "500/500 [==============================] - 0s 71us/step - loss: 0.1017\n",
      "Epoch 38/50\n",
      "500/500 [==============================] - 0s 84us/step - loss: 0.1000\n",
      "Epoch 39/50\n",
      "500/500 [==============================] - 0s 69us/step - loss: 0.1028\n",
      "Epoch 40/50\n",
      "500/500 [==============================] - 0s 61us/step - loss: 0.1041\n",
      "Epoch 41/50\n",
      "500/500 [==============================] - 0s 63us/step - loss: 0.1028\n",
      "Epoch 42/50\n",
      "500/500 [==============================] - 0s 66us/step - loss: 0.1175\n",
      "Epoch 43/50\n",
      "500/500 [==============================] - 0s 75us/step - loss: 0.1119\n",
      "Epoch 44/50\n",
      "500/500 [==============================] - 0s 52us/step - loss: 0.1023\n",
      "Epoch 45/50\n",
      "500/500 [==============================] - 0s 50us/step - loss: 0.1073\n",
      "Epoch 46/50\n",
      "500/500 [==============================] - 0s 64us/step - loss: 0.1023\n",
      "Epoch 47/50\n",
      "500/500 [==============================] - 0s 64us/step - loss: 0.1003\n",
      "Epoch 48/50\n",
      "500/500 [==============================] - 0s 53us/step - loss: 0.1158\n",
      "Epoch 49/50\n",
      "500/500 [==============================] - 0s 60us/step - loss: 0.1044\n",
      "Epoch 50/50\n",
      "500/500 [==============================] - 0s 58us/step - loss: 0.0980\n"
     ]
    },
    {
     "data": {
      "text/plain": [
       "<keras.callbacks.History at 0x1fd1b05b160>"
      ]
     },
     "execution_count": 10,
     "metadata": {},
     "output_type": "execute_result"
    }
   ],
   "source": [
    "adam = Adam(lr=0.01)\n",
    "model.compile(loss='mse', optimizer=adam)\n",
    "model.fit(X, y, epochs=50)"
   ]
  },
  {
   "cell_type": "code",
   "execution_count": 12,
   "metadata": {
    "scrolled": true
   },
   "outputs": [
    {
     "data": {
      "image/png": "[encoded data removed]",
      "text/plain": [
       "<Figure size 432x288 with 1 Axes>"
      ]
     },
     "metadata": {
      "needs_background": "light"
     },
     "output_type": "display_data"
    }
   ],
   "source": [
    "predictions = model.predict(X)\n",
    "plt.scatter(X, y)\n",
    "plt.plot(X, predictions, 'ro')\n",
    "plt.show()"
   ]
  }
 ],
 "metadata": {
  "kernelspec": {
   "display_name": "Python 3",
   "language": "python",
   "name": "python3"
  },
  "language_info": {
   "codemirror_mode": {
    "name": "ipython",
    "version": 3
   },
   "file_extension": ".py",
   "mimetype": "text/x-python",
   "name": "python",
   "nbconvert_exporter": "python",
   "pygments_lexer": "ipython3",
   "version": "3.6.8"
  }
 },
 "nbformat": 4,
 "nbformat_minor": 2
}
